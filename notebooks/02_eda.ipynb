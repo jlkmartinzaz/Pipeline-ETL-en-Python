{
 "cells": [
  {
   "cell_type": "code",
   "execution_count": 1,
   "id": "86a73b8b",
   "metadata": {},
   "outputs": [],
   "source": [
    "import pandas as pd\n",
    "\n",
    "# Cargar CSV limpio\n",
    "df = pd.read_csv(\"../data/processed/DJIA_news_clean.csv\")\n",
    "\n",
    "# Convertir la fecha a datetime otra vez para análisis temporal\n",
    "df['Date'] = pd.to_datetime(df['Date'], errors='coerce')\n"
   ]
  },
  {
   "cell_type": "code",
   "execution_count": null,
   "id": "08493347",
   "metadata": {},
   "outputs": [],
   "source": []
  }
 ],
 "metadata": {
  "kernelspec": {
   "display_name": "Python 3 (ipykernel)",
   "language": "python",
   "name": "python3"
  },
  "language_info": {
   "codemirror_mode": {
    "name": "ipython",
    "version": 3
   },
   "file_extension": ".py",
   "mimetype": "text/x-python",
   "name": "python",
   "nbconvert_exporter": "python",
   "pygments_lexer": "ipython3",
   "version": "3.12.1"
  }
 },
 "nbformat": 4,
 "nbformat_minor": 5
}
